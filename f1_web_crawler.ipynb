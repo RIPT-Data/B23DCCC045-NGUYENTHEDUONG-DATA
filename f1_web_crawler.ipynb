{
    "cells": [
        {
            "cell_type": "code",
            "execution_count": 5,
            "metadata": {},
            "outputs": [],
            "source": [
                "import requests\n",
                "from bs4 import BeautifulSoup\n",
                "import pandas as pd"
            ]
        },
        {
            "cell_type": "code",
            "execution_count": 2,
            "metadata": {},
            "outputs": [],
            "source": [
                "url = \"https://www.formula1.com/en/results/2024/drivers\"\n",
                "response= requests.get(url)"
            ]
        },
        {
            "cell_type": "code",
            "execution_count": 6,
            "metadata": {},
            "outputs": [
                {
                    "name": "stdout",
                    "output_type": "stream",
                    "text": [
                        "Dữ liệu đã được lưu vào file F1_2024_Driver_Standings.xlsx\n"
                    ]
                }
            ],
            "source": [
                "if response.status_code == 200:\n",
                "    soup = BeautifulSoup(response.content, 'html.parser')\n",
                "    table=soup.find('table', class_='f1-table f1-table-with-data w-full')\n",
                "    # Extract the rows of table\n",
                "    rows = table.find_all('tr')\n",
                "    data = []\n",
                "    for row_id, row in enumerate(rows):\n",
                "        columns = row.find_all('td')\n",
                "        if columns:\n",
                "            position = columns[0].text.strip()\n",
                "            driver_name = columns[1].text.strip()\n",
                "\n",
                "            nationality = columns[2].text.strip()\n",
                "            car = columns[3].text.strip()\n",
                "            pts = columns[4].text.strip()\n",
                "\n",
                "            # print(f\" Position: {position}\"\n",
                "            #       f\"\\n Driver: {driver_name}\"\n",
                "            #       f\"\\n Nationality: {nationality}\"\n",
                "            #       f\"\\n Car: {car}\"\n",
                "            #       f\"\\n Points: {pts}\\n\\n\")\n",
                "            data.append([position,driver_name,nationality,car,pts])\n",
                "    df = pd.DataFrame(data, columns=['Position', 'Driver', 'Nationality', 'Car', 'Points'])\n",
                "\n",
                "    df.to_excel('F1_2024_Driver_Standings.xlsx', index=False)\n",
                "\n",
                "    print(\"Dữ liệu đã được lưu vào file F1_2024_Driver_Standings.xlsx\")\n",
                "\n"
            ]
        }
    ],
    "metadata": {
        "kernelspec": {
            "display_name": "venv",
            "language": "python",
            "name": "python3"
        },
        "language_info": {
            "codemirror_mode": {
                "name": "ipython",
                "version": 3
            },
            "file_extension": ".py",
            "mimetype": "text/x-python",
            "name": "python",
            "nbconvert_exporter": "python",
            "pygments_lexer": "ipython3",
            "version": "3.12.6"
        }
    },
    "nbformat": 4,
    "nbformat_minor": 4
}
